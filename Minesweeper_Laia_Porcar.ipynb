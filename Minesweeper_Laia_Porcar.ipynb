{
  "nbformat": 4,
  "nbformat_minor": 0,
  "metadata": {
    "colab": {
      "name": "Minesweeper_Laia_Porcar.ipynb",
      "provenance": [],
      "collapsed_sections": []
    },
    "kernelspec": {
      "name": "python3",
      "display_name": "Python 3"
    },
    "language_info": {
      "name": "python"
    }
  },
  "cells": [
    {
      "cell_type": "markdown",
      "source": [
        "# Imports"
      ],
      "metadata": {
        "id": "KRBGkQFNCy4B"
      }
    },
    {
      "cell_type": "code",
      "execution_count": null,
      "metadata": {
        "colab": {
          "base_uri": "https://localhost:8080/"
        },
        "id": "-ZsFd2q48sZH",
        "outputId": "bd9a2b8b-3b71-492e-8ec6-cd144ee97dc3"
      },
      "outputs": [
        {
          "output_type": "stream",
          "name": "stdout",
          "text": [
            "Looking in indexes: https://pypi.org/simple, https://us-python.pkg.dev/colab-wheels/public/simple/\n",
            "Requirement already satisfied: python-sat in /usr/local/lib/python3.7/dist-packages (0.1.7.dev18)\n",
            "Requirement already satisfied: six in /usr/local/lib/python3.7/dist-packages (from python-sat) (1.15.0)\n"
          ]
        }
      ],
      "source": [
        "%pip install python-sat\n",
        "import sys\n",
        "import numpy as np\n",
        "from itertools import combinations \n",
        "from pysat.solvers import Minisat22"
      ]
    },
    {
      "cell_type": "markdown",
      "source": [
        "# First game state"
      ],
      "metadata": {
        "id": "qEOvN4saCzeZ"
      }
    },
    {
      "cell_type": "code",
      "source": [
        "game=[\n",
        "\"001??????\",\n",
        "\"001??????\",\n",
        "\"00112????\",\n",
        "\"00001????\",\n",
        "\"000011???\",\n",
        "\"000001???\",\n",
        "\"000012???\",\n",
        "\"12322????\",\n",
        "\"?????????\"]\n",
        "\n",
        "width=len(game[0])\n",
        "height=len(game)\n",
        "\n",
        "def pos_mat(r,c):\n",
        "  \"\"\" Encodes each cell into a unique number\n",
        "  :r: row of the cell.\n",
        "  :c: column of the cell.\n",
        "  \"\"\"\n",
        "  return r*(width+2) + c + 1\n",
        "\n",
        "def check_mine(row, col, mine):\n",
        "  \"\"\" Given the row and column of a hidden cell, prints wether there is a mine\n",
        "  in that cell or if it is a safe cell to click.\n",
        "  :row: row of the hidden cell.\n",
        "  :col: column of the hidden cell.\n",
        "  :mine: Boolean: check the possibility of mine in that cell (True) or check\n",
        "  the possibility of being a safe cell (False).\n",
        "  \"\"\"\n",
        "  s = Minisat22()\n",
        "\n",
        "  # Include border cells (with no mines) to ease the problem\n",
        "  for c in range(width+2):\n",
        "    s.add_clause([-pos_mat(0,c)])\n",
        "    s.add_clause([-pos_mat(height+1,c)])\n",
        "  for r in range(height+2):\n",
        "    s.add_clause([-pos_mat(r,0)])\n",
        "    s.add_clause([-pos_mat(r,width+1)])\n",
        "\n",
        "  for r in range(1,height+1):\n",
        "    for c in range(1,width+1):\n",
        "      t = game[r-1][c-1]\n",
        "      if t in \"1234567\":\n",
        "        s.add_clause([-pos_mat(r,c)])# there're no mines in a cell with a number\n",
        "        \n",
        "        cells_around = [-pos_mat(r-1,c-1), -pos_mat(r-1,c), -pos_mat(r-1,c+1),\n",
        "                      -pos_mat(r,c-1), -pos_mat(r,c+1), -pos_mat(r+1,c-1),\n",
        "                      -pos_mat(r+1,c), -pos_mat(r+1,c+1)]\n",
        "        cells_around_neg = [pos_mat(r-1,c-1), pos_mat(r-1,c), pos_mat(r-1,c+1),\n",
        "                       pos_mat(r,c-1), pos_mat(r,c+1), pos_mat(r+1,c-1),\n",
        "                       pos_mat(r+1,c), pos_mat(r+1,c+1)]\n",
        "\n",
        "        s_most = list(combinations(cells_around, 1+int(t)))\n",
        "        #s_most = [[i for i in j]for j in s_most]\n",
        "        s_least = list(combinations(cells_around_neg, 8-int(t)+1))\n",
        "        #s_least = [[i for i in j]for j in s_least]\n",
        "\n",
        "        for x in s_most:\n",
        "          s.add_clause(x)\n",
        "        for y in s_least:\n",
        "          s.add_clause(y)\n",
        "\n",
        "        \n",
        "      if t == \"0\":\n",
        "        s.add_clause([-pos_mat(r,c)]) # there is no mine in a cell with a 0\n",
        "        # And there are no mines around a cell with a 0\n",
        "        s.add_clause([-pos_mat(r-1,c-1)])\n",
        "        s.add_clause([-pos_mat(r-1,c)])\n",
        "        s.add_clause([-pos_mat(r-1,c+1)])\n",
        "        s.add_clause([-pos_mat(r,c-1)])\n",
        "        s.add_clause([-pos_mat(r,c+1)])\n",
        "        s.add_clause([-pos_mat(r+1,c-1)])\n",
        "        s.add_clause([-pos_mat(r+1,c)])\n",
        "        s.add_clause([-pos_mat(r+1,c+1)])\n",
        "\n",
        "      if t == \"8\":\n",
        "        s.add_clause([-pos_mat(r,c)]) # There are no mines in a cell with an 8\n",
        "        # All cells around a cell with an 8 have mines in them:\n",
        "        s.add_clause([pos_mat(r-1,c-1)])\n",
        "        s.add_clause([pos_mat(r-1,c)])\n",
        "        s.add_clause([pos_mat(r-1,c+1)])\n",
        "        s.add_clause([pos_mat(r,c-1)])\n",
        "        s.add_clause([pos_mat(r,c+1)])\n",
        "        s.add_clause([pos_mat(r+1,c-1)])\n",
        "        s.add_clause([pos_mat(r+1,c)])\n",
        "        s.add_clause([pos_mat(r+1,c+1)])\n",
        "\n",
        "  if mine == True:\n",
        "    # Place mine:\n",
        "    s.add_clause([pos_mat(row,col)])\n",
        "    if s.solve() == False:\n",
        "      print (f\"row={row} col={col}, -> No mine\")\n",
        "  elif mine == False:\n",
        "    # Place no mine:\n",
        "    s.add_clause([-pos_mat(row,col)])\n",
        "    if s.solve() == False:\n",
        "      print (f\"row={row} col={col}, -> MINE\")\n",
        "\n",
        "# Enumerate all hidden cells:\n",
        "for r in range(0,height):\n",
        "  for c in range(0,width):\n",
        "    if game[r][c]==\"?\":\n",
        "      check_mine(r+1, c+1, mine = True)\n",
        "      check_mine(r+1, c+1, mine = False)"
      ],
      "metadata": {
        "colab": {
          "base_uri": "https://localhost:8080/"
        },
        "id": "2ylZbnLGvbaL",
        "outputId": "49a3bbd9-bdd7-48a2-9cdd-494899d3ee8a"
      },
      "execution_count": null,
      "outputs": [
        {
          "output_type": "stream",
          "name": "stdout",
          "text": [
            "row=1 col=4, -> No mine\n",
            "row=2 col=4, -> MINE\n",
            "row=2 col=5, -> No mine\n",
            "row=2 col=6, -> No mine\n",
            "row=3 col=6, -> No mine\n",
            "row=4 col=6, -> MINE\n",
            "row=4 col=7, -> No mine\n",
            "row=5 col=7, -> No mine\n",
            "row=6 col=7, -> No mine\n",
            "row=7 col=7, -> MINE\n",
            "row=8 col=6, -> MINE\n",
            "row=8 col=7, -> No mine\n",
            "row=9 col=1, -> No mine\n",
            "row=9 col=2, -> MINE\n",
            "row=9 col=3, -> MINE\n",
            "row=9 col=4, -> MINE\n",
            "row=9 col=5, -> No mine\n",
            "row=9 col=6, -> No mine\n"
          ]
        }
      ]
    },
    {
      "cell_type": "markdown",
      "source": [
        "# Second game state"
      ],
      "metadata": {
        "id": "5Xuta4brC6sp"
      }
    },
    {
      "cell_type": "code",
      "source": [
        "game=[\n",
        "\"0011?????\",\n",
        "\"001?11???\",\n",
        "\"001122???\",\n",
        "\"00001?2??\",\n",
        "\"0000112??\",\n",
        "\"0000012??\",\n",
        "\"000012???\",\n",
        "\"12322?2??\",\n",
        "\"1???21???\"]\n",
        "\n",
        "width=len(game[0])\n",
        "height=len(game)\n",
        "\n",
        "def pos_mat(r,c):\n",
        "  \"\"\" Encodes each cell into a unique number\n",
        "  :r: row of the cell.\n",
        "  :c: column of the cell.\n",
        "  \"\"\"\n",
        "  return r*(width+2) + c + 1\n",
        "\n",
        "def check_mine(row, col, mine):\n",
        "  \"\"\" Given the row and column of a hidden cell, prints wether there is a mine\n",
        "  in that cell or if it is a safe cell to click.\n",
        "  :row: row of the hidden cell.\n",
        "  :col: column of the hidden cell.\n",
        "  :mine: Boolean: check the possibility of mine in that cell (True) or check\n",
        "  the possibility of being a safe cell (False).\n",
        "  \"\"\"\n",
        "  s = Minisat22()\n",
        "\n",
        "  # Include border cells (with no mines) to ease the problem\n",
        "  for c in range(width+2):\n",
        "    s.add_clause([-pos_mat(0,c)])\n",
        "    s.add_clause([-pos_mat(height+1,c)])\n",
        "  for r in range(height+2):\n",
        "    s.add_clause([-pos_mat(r,0)])\n",
        "    s.add_clause([-pos_mat(r,width+1)])\n",
        "\n",
        "  for r in range(1,height+1):\n",
        "    for c in range(1,width+1):\n",
        "      t = game[r-1][c-1]\n",
        "      if t in \"1234567\":\n",
        "        s.add_clause([-pos_mat(r,c)])# there're no mines in a cell with a number\n",
        "        \n",
        "        cells_around = [-pos_mat(r-1,c-1), -pos_mat(r-1,c), -pos_mat(r-1,c+1),\n",
        "                      -pos_mat(r,c-1), -pos_mat(r,c+1), -pos_mat(r+1,c-1),\n",
        "                      -pos_mat(r+1,c), -pos_mat(r+1,c+1)]\n",
        "        cells_around_neg = [pos_mat(r-1,c-1), pos_mat(r-1,c), pos_mat(r-1,c+1),\n",
        "                       pos_mat(r,c-1), pos_mat(r,c+1), pos_mat(r+1,c-1),\n",
        "                       pos_mat(r+1,c), pos_mat(r+1,c+1)]\n",
        "\n",
        "        s_most = list(combinations(cells_around, 1+int(t)))\n",
        "        #s_most = [[i for i in j]for j in s_most]\n",
        "        s_least = list(combinations(cells_around_neg, 8-int(t)+1))\n",
        "        #s_least = [[i for i in j]for j in s_least]\n",
        "\n",
        "        for x in s_most:\n",
        "          s.add_clause(x)\n",
        "        for y in s_least:\n",
        "          s.add_clause(y)\n",
        "\n",
        "        \n",
        "      if t == \"0\":\n",
        "        s.add_clause([-pos_mat(r,c)]) # there is no mine in a cell with a 0\n",
        "        # And there are no mines around a cell with a 0\n",
        "        s.add_clause([-pos_mat(r-1,c-1)])\n",
        "        s.add_clause([-pos_mat(r-1,c)])\n",
        "        s.add_clause([-pos_mat(r-1,c+1)])\n",
        "        s.add_clause([-pos_mat(r,c-1)])\n",
        "        s.add_clause([-pos_mat(r,c+1)])\n",
        "        s.add_clause([-pos_mat(r+1,c-1)])\n",
        "        s.add_clause([-pos_mat(r+1,c)])\n",
        "        s.add_clause([-pos_mat(r+1,c+1)])\n",
        "\n",
        "      if t == \"8\":\n",
        "        s.add_clause([-pos_mat(r,c)]) # There are no mines in a cell with an 8\n",
        "        # All cells around a cell with an 8 have mines in them:\n",
        "        s.add_clause([pos_mat(r-1,c-1)])\n",
        "        s.add_clause([pos_mat(r-1,c)])\n",
        "        s.add_clause([pos_mat(r-1,c+1)])\n",
        "        s.add_clause([pos_mat(r,c-1)])\n",
        "        s.add_clause([pos_mat(r,c+1)])\n",
        "        s.add_clause([pos_mat(r+1,c-1)])\n",
        "        s.add_clause([pos_mat(r+1,c)])\n",
        "        s.add_clause([pos_mat(r+1,c+1)])\n",
        "\n",
        "  if mine == True:\n",
        "    # Place mine:\n",
        "    s.add_clause([pos_mat(row,col)])\n",
        "    if s.solve() == False:\n",
        "      print (f\"row={row} col={col}, -> No mine\")\n",
        "  elif mine == False:\n",
        "    # Place no mine:\n",
        "    s.add_clause([-pos_mat(row,col)])\n",
        "    if s.solve() == False:\n",
        "      print (f\"row={row} col={col}, -> MINE\")\n",
        "\n",
        "# Enumerate all hidden cells:\n",
        "for r in range(0,height):\n",
        "  for c in range(0,width):\n",
        "    if game[r][c]==\"?\":\n",
        "      check_mine(r+1, c+1, mine = True)\n",
        "      check_mine(r+1, c+1, mine = False)"
      ],
      "metadata": {
        "colab": {
          "base_uri": "https://localhost:8080/"
        },
        "id": "cRsW4BET8uOi",
        "outputId": "1eaa4203-0ce5-44f6-bab7-b8df8a941b73"
      },
      "execution_count": null,
      "outputs": [
        {
          "output_type": "stream",
          "name": "stdout",
          "text": [
            "row=1 col=5, -> No mine\n",
            "row=1 col=6, -> No mine\n",
            "row=1 col=7, -> No mine\n",
            "row=2 col=4, -> MINE\n",
            "row=4 col=6, -> MINE\n",
            "row=4 col=8, -> No mine\n",
            "row=7 col=7, -> MINE\n",
            "row=7 col=8, -> No mine\n",
            "row=8 col=6, -> MINE\n",
            "row=8 col=8, -> No mine\n",
            "row=9 col=2, -> MINE\n",
            "row=9 col=3, -> MINE\n",
            "row=9 col=4, -> MINE\n",
            "row=9 col=7, -> No mine\n",
            "row=9 col=8, -> No mine\n"
          ]
        }
      ]
    }
  ]
}